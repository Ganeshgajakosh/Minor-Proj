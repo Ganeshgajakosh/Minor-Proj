{
 "cells": [
  {
   "cell_type": "code",
   "execution_count": 51,
   "metadata": {},
   "outputs": [],
   "source": [
    "import pandas as pd\n",
    "import numpy as np\n",
    "%matplotlib inline\n",
    "import matplotlib as plt\n",
    "import Orange"
   ]
  },
  {
   "cell_type": "code",
   "execution_count": 27,
   "metadata": {
    "collapsed": true
   },
   "outputs": [],
   "source": [
    "dataFrame=pd.ExcelFile(\"2.xlsx\")"
   ]
  },
  {
   "cell_type": "code",
   "execution_count": 28,
   "metadata": {},
   "outputs": [
    {
     "data": {
      "text/plain": [
       "['Sheet1']"
      ]
     },
     "execution_count": 28,
     "metadata": {},
     "output_type": "execute_result"
    }
   ],
   "source": [
    "dataFrame.sheet_names"
   ]
  },
  {
   "cell_type": "code",
   "execution_count": 29,
   "metadata": {},
   "outputs": [],
   "source": [
    "df=dataFrame.parse(\"Sheet1\")"
   ]
  },
  {
   "cell_type": "code",
   "execution_count": 30,
   "metadata": {},
   "outputs": [
    {
     "data": {
      "text/html": [
       "<div>\n",
       "<style>\n",
       "    .dataframe thead tr:only-child th {\n",
       "        text-align: right;\n",
       "    }\n",
       "\n",
       "    .dataframe thead th {\n",
       "        text-align: left;\n",
       "    }\n",
       "\n",
       "    .dataframe tbody tr th {\n",
       "        vertical-align: top;\n",
       "    }\n",
       "</style>\n",
       "<table border=\"1\" class=\"dataframe\">\n",
       "  <thead>\n",
       "    <tr style=\"text-align: right;\">\n",
       "      <th></th>\n",
       "      <th>case no</th>\n",
       "      <th>age</th>\n",
       "      <th>gender</th>\n",
       "      <th>place</th>\n",
       "      <th>place.1</th>\n",
       "      <th>Occupation</th>\n",
       "      <th>past history</th>\n",
       "      <th>fbg</th>\n",
       "      <th>Issues</th>\n",
       "      <th>Depression</th>\n",
       "      <th>...</th>\n",
       "      <th>forgetness</th>\n",
       "      <th>episodic attack</th>\n",
       "      <th>abusive language</th>\n",
       "      <th>head ache</th>\n",
       "      <th>epilepsy</th>\n",
       "      <th>Categorie</th>\n",
       "      <th>v1</th>\n",
       "      <th>v2</th>\n",
       "      <th>v3</th>\n",
       "      <th>v4</th>\n",
       "    </tr>\n",
       "  </thead>\n",
       "  <tbody>\n",
       "    <tr>\n",
       "      <th>0</th>\n",
       "      <td>3396/16</td>\n",
       "      <td>21</td>\n",
       "      <td>1</td>\n",
       "      <td>hubli</td>\n",
       "      <td>1</td>\n",
       "      <td>student</td>\n",
       "      <td>NaN</td>\n",
       "      <td>NaN</td>\n",
       "      <td>keeps dull,depressed felling,self talking</td>\n",
       "      <td>1</td>\n",
       "      <td>...</td>\n",
       "      <td>0</td>\n",
       "      <td>0</td>\n",
       "      <td>0</td>\n",
       "      <td>0</td>\n",
       "      <td>0</td>\n",
       "      <td>personality disorder</td>\n",
       "      <td>2016-06-11</td>\n",
       "      <td>NaT</td>\n",
       "      <td>NaT</td>\n",
       "      <td>NaT</td>\n",
       "    </tr>\n",
       "    <tr>\n",
       "      <th>1</th>\n",
       "      <td>3391/16</td>\n",
       "      <td>13</td>\n",
       "      <td>0</td>\n",
       "      <td>dharwad</td>\n",
       "      <td>2</td>\n",
       "      <td>NaN</td>\n",
       "      <td>NaN</td>\n",
       "      <td>NaN</td>\n",
       "      <td>aggression,irritated,scuide attempt,attention ...</td>\n",
       "      <td>1</td>\n",
       "      <td>...</td>\n",
       "      <td>0</td>\n",
       "      <td>0</td>\n",
       "      <td>0</td>\n",
       "      <td>0</td>\n",
       "      <td>0</td>\n",
       "      <td>Mental petardation</td>\n",
       "      <td>2016-06-11</td>\n",
       "      <td>NaT</td>\n",
       "      <td>NaT</td>\n",
       "      <td>NaT</td>\n",
       "    </tr>\n",
       "    <tr>\n",
       "      <th>2</th>\n",
       "      <td>3390/16</td>\n",
       "      <td>14</td>\n",
       "      <td>0</td>\n",
       "      <td>gulbarga</td>\n",
       "      <td>3</td>\n",
       "      <td>student</td>\n",
       "      <td>NaN</td>\n",
       "      <td>NaN</td>\n",
       "      <td>depressed,irritated</td>\n",
       "      <td>1</td>\n",
       "      <td>...</td>\n",
       "      <td>0</td>\n",
       "      <td>0</td>\n",
       "      <td>0</td>\n",
       "      <td>0</td>\n",
       "      <td>0</td>\n",
       "      <td>personality disorder</td>\n",
       "      <td>2016-06-11</td>\n",
       "      <td>NaT</td>\n",
       "      <td>NaT</td>\n",
       "      <td>NaT</td>\n",
       "    </tr>\n",
       "    <tr>\n",
       "      <th>3</th>\n",
       "      <td>3389/16</td>\n",
       "      <td>6</td>\n",
       "      <td>1</td>\n",
       "      <td>belagam</td>\n",
       "      <td>4</td>\n",
       "      <td>NaN</td>\n",
       "      <td>NaN</td>\n",
       "      <td>NaN</td>\n",
       "      <td>slow learner,physicaly weak</td>\n",
       "      <td>0</td>\n",
       "      <td>...</td>\n",
       "      <td>0</td>\n",
       "      <td>0</td>\n",
       "      <td>0</td>\n",
       "      <td>0</td>\n",
       "      <td>0</td>\n",
       "      <td>Schizophrenia</td>\n",
       "      <td>2016-06-11</td>\n",
       "      <td>NaT</td>\n",
       "      <td>NaT</td>\n",
       "      <td>NaT</td>\n",
       "    </tr>\n",
       "    <tr>\n",
       "      <th>4</th>\n",
       "      <td>3387/16</td>\n",
       "      <td>11</td>\n",
       "      <td>1</td>\n",
       "      <td>baglkot</td>\n",
       "      <td>5</td>\n",
       "      <td>6th standarsd</td>\n",
       "      <td>NaN</td>\n",
       "      <td>NaN</td>\n",
       "      <td>anxitey,panic attack</td>\n",
       "      <td>0</td>\n",
       "      <td>...</td>\n",
       "      <td>0</td>\n",
       "      <td>0</td>\n",
       "      <td>0</td>\n",
       "      <td>0</td>\n",
       "      <td>0</td>\n",
       "      <td>Trans westism</td>\n",
       "      <td>2016-06-11</td>\n",
       "      <td>NaT</td>\n",
       "      <td>NaT</td>\n",
       "      <td>NaT</td>\n",
       "    </tr>\n",
       "  </tbody>\n",
       "</table>\n",
       "<p>5 rows × 45 columns</p>\n",
       "</div>"
      ],
      "text/plain": [
       "   case no  age  gender     place  place.1     Occupation past history  fbg  \\\n",
       "0  3396/16   21       1     hubli        1        student          NaN  NaN   \n",
       "1  3391/16   13       0   dharwad        2            NaN          NaN  NaN   \n",
       "2  3390/16   14       0  gulbarga        3        student          NaN  NaN   \n",
       "3  3389/16    6       1   belagam        4            NaN          NaN  NaN   \n",
       "4  3387/16   11       1   baglkot        5  6th standarsd          NaN  NaN   \n",
       "\n",
       "                                              Issues  Depression ...  \\\n",
       "0          keeps dull,depressed felling,self talking           1 ...   \n",
       "1  aggression,irritated,scuide attempt,attention ...           1 ...   \n",
       "2                                depressed,irritated           1 ...   \n",
       "3                        slow learner,physicaly weak           0 ...   \n",
       "4                               anxitey,panic attack           0 ...   \n",
       "\n",
       "   forgetness  episodic attack  abusive language  head ache  epilepsy  \\\n",
       "0           0                0                 0          0         0   \n",
       "1           0                0                 0          0         0   \n",
       "2           0                0                 0          0         0   \n",
       "3           0                0                 0          0         0   \n",
       "4           0                0                 0          0         0   \n",
       "\n",
       "              Categorie         v1  v2  v3  v4  \n",
       "0  personality disorder 2016-06-11 NaT NaT NaT  \n",
       "1    Mental petardation 2016-06-11 NaT NaT NaT  \n",
       "2  personality disorder 2016-06-11 NaT NaT NaT  \n",
       "3         Schizophrenia 2016-06-11 NaT NaT NaT  \n",
       "4         Trans westism 2016-06-11 NaT NaT NaT  \n",
       "\n",
       "[5 rows x 45 columns]"
      ]
     },
     "execution_count": 30,
     "metadata": {},
     "output_type": "execute_result"
    }
   ],
   "source": [
    "df.head()"
   ]
  },
  {
   "cell_type": "code",
   "execution_count": 15,
   "metadata": {
    "collapsed": true
   },
   "outputs": [],
   "source": [
    "#Handling the NaN"
   ]
  },
  {
   "cell_type": "code",
   "execution_count": 31,
   "metadata": {},
   "outputs": [
    {
     "data": {
      "text/plain": [
       "case no                     False\n",
       "age                         False\n",
       "gender                      False\n",
       "place                       False\n",
       "place.1                     False\n",
       "Occupation                   True\n",
       "past history                 True\n",
       "fbg                          True\n",
       "Issues                      False\n",
       "Depression                  False\n",
       "Dull                        False\n",
       "Self talking                False\n",
       "aggression                  False\n",
       "irritated                   False\n",
       "scuide attempt              False\n",
       "attention seeking           False\n",
       "slow learner                False\n",
       "physicaly weak              False\n",
       "anxitey                     False\n",
       "panic attack                False\n",
       "impulsive                   False\n",
       "emotonally disturbed        False\n",
       "lazy                        False\n",
       "lost interest to studies    False\n",
       "Pressure                    False\n",
       "laught to much              False\n",
       "sleeplessness               False\n",
       "weakness                    False\n",
       "loose balance               False\n",
       " negative thinking          False\n",
       "repeat same action          False\n",
       "shy                         False\n",
       "slow in writing             False\n",
       "resetlessness               False\n",
       "fear                        False\n",
       "forgetness                  False\n",
       "episodic attack             False\n",
       "abusive language            False\n",
       "head ache                   False\n",
       "epilepsy                    False\n",
       "Categorie                   False\n",
       "v1                          False\n",
       "v2                           True\n",
       "v3                           True\n",
       "v4                           True\n",
       "dtype: bool"
      ]
     },
     "execution_count": 31,
     "metadata": {},
     "output_type": "execute_result"
    }
   ],
   "source": [
    "df.isnull().any()"
   ]
  },
  {
   "cell_type": "code",
   "execution_count": 32,
   "metadata": {
    "collapsed": true
   },
   "outputs": [],
   "source": [
    "df=df.replace(np.NaN,\"N/A\")"
   ]
  },
  {
   "cell_type": "code",
   "execution_count": 34,
   "metadata": {},
   "outputs": [
    {
     "data": {
      "text/html": [
       "<div>\n",
       "<style>\n",
       "    .dataframe thead tr:only-child th {\n",
       "        text-align: right;\n",
       "    }\n",
       "\n",
       "    .dataframe thead th {\n",
       "        text-align: left;\n",
       "    }\n",
       "\n",
       "    .dataframe tbody tr th {\n",
       "        vertical-align: top;\n",
       "    }\n",
       "</style>\n",
       "<table border=\"1\" class=\"dataframe\">\n",
       "  <thead>\n",
       "    <tr style=\"text-align: right;\">\n",
       "      <th></th>\n",
       "      <th>case no</th>\n",
       "      <th>age</th>\n",
       "      <th>gender</th>\n",
       "      <th>place</th>\n",
       "      <th>place.1</th>\n",
       "      <th>Occupation</th>\n",
       "      <th>past history</th>\n",
       "      <th>fbg</th>\n",
       "      <th>Issues</th>\n",
       "      <th>Depression</th>\n",
       "      <th>...</th>\n",
       "      <th>forgetness</th>\n",
       "      <th>episodic attack</th>\n",
       "      <th>abusive language</th>\n",
       "      <th>head ache</th>\n",
       "      <th>epilepsy</th>\n",
       "      <th>Categorie</th>\n",
       "      <th>v1</th>\n",
       "      <th>v2</th>\n",
       "      <th>v3</th>\n",
       "      <th>v4</th>\n",
       "    </tr>\n",
       "  </thead>\n",
       "  <tbody>\n",
       "    <tr>\n",
       "      <th>0</th>\n",
       "      <td>3396/16</td>\n",
       "      <td>21</td>\n",
       "      <td>1</td>\n",
       "      <td>hubli</td>\n",
       "      <td>1</td>\n",
       "      <td>student</td>\n",
       "      <td>N/A</td>\n",
       "      <td>N/A</td>\n",
       "      <td>keeps dull,depressed felling,self talking</td>\n",
       "      <td>1</td>\n",
       "      <td>...</td>\n",
       "      <td>0</td>\n",
       "      <td>0</td>\n",
       "      <td>0</td>\n",
       "      <td>0</td>\n",
       "      <td>0</td>\n",
       "      <td>personality disorder</td>\n",
       "      <td>2016-06-11</td>\n",
       "      <td>N/A</td>\n",
       "      <td>N/A</td>\n",
       "      <td>N/A</td>\n",
       "    </tr>\n",
       "    <tr>\n",
       "      <th>1</th>\n",
       "      <td>3391/16</td>\n",
       "      <td>13</td>\n",
       "      <td>0</td>\n",
       "      <td>dharwad</td>\n",
       "      <td>2</td>\n",
       "      <td>N/A</td>\n",
       "      <td>N/A</td>\n",
       "      <td>N/A</td>\n",
       "      <td>aggression,irritated,scuide attempt,attention ...</td>\n",
       "      <td>1</td>\n",
       "      <td>...</td>\n",
       "      <td>0</td>\n",
       "      <td>0</td>\n",
       "      <td>0</td>\n",
       "      <td>0</td>\n",
       "      <td>0</td>\n",
       "      <td>Mental petardation</td>\n",
       "      <td>2016-06-11</td>\n",
       "      <td>N/A</td>\n",
       "      <td>N/A</td>\n",
       "      <td>N/A</td>\n",
       "    </tr>\n",
       "    <tr>\n",
       "      <th>2</th>\n",
       "      <td>3390/16</td>\n",
       "      <td>14</td>\n",
       "      <td>0</td>\n",
       "      <td>gulbarga</td>\n",
       "      <td>3</td>\n",
       "      <td>student</td>\n",
       "      <td>N/A</td>\n",
       "      <td>N/A</td>\n",
       "      <td>depressed,irritated</td>\n",
       "      <td>1</td>\n",
       "      <td>...</td>\n",
       "      <td>0</td>\n",
       "      <td>0</td>\n",
       "      <td>0</td>\n",
       "      <td>0</td>\n",
       "      <td>0</td>\n",
       "      <td>personality disorder</td>\n",
       "      <td>2016-06-11</td>\n",
       "      <td>N/A</td>\n",
       "      <td>N/A</td>\n",
       "      <td>N/A</td>\n",
       "    </tr>\n",
       "    <tr>\n",
       "      <th>3</th>\n",
       "      <td>3389/16</td>\n",
       "      <td>6</td>\n",
       "      <td>1</td>\n",
       "      <td>belagam</td>\n",
       "      <td>4</td>\n",
       "      <td>N/A</td>\n",
       "      <td>N/A</td>\n",
       "      <td>N/A</td>\n",
       "      <td>slow learner,physicaly weak</td>\n",
       "      <td>0</td>\n",
       "      <td>...</td>\n",
       "      <td>0</td>\n",
       "      <td>0</td>\n",
       "      <td>0</td>\n",
       "      <td>0</td>\n",
       "      <td>0</td>\n",
       "      <td>Schizophrenia</td>\n",
       "      <td>2016-06-11</td>\n",
       "      <td>N/A</td>\n",
       "      <td>N/A</td>\n",
       "      <td>N/A</td>\n",
       "    </tr>\n",
       "    <tr>\n",
       "      <th>4</th>\n",
       "      <td>3387/16</td>\n",
       "      <td>11</td>\n",
       "      <td>1</td>\n",
       "      <td>baglkot</td>\n",
       "      <td>5</td>\n",
       "      <td>6th standarsd</td>\n",
       "      <td>N/A</td>\n",
       "      <td>N/A</td>\n",
       "      <td>anxitey,panic attack</td>\n",
       "      <td>0</td>\n",
       "      <td>...</td>\n",
       "      <td>0</td>\n",
       "      <td>0</td>\n",
       "      <td>0</td>\n",
       "      <td>0</td>\n",
       "      <td>0</td>\n",
       "      <td>Trans westism</td>\n",
       "      <td>2016-06-11</td>\n",
       "      <td>N/A</td>\n",
       "      <td>N/A</td>\n",
       "      <td>N/A</td>\n",
       "    </tr>\n",
       "  </tbody>\n",
       "</table>\n",
       "<p>5 rows × 45 columns</p>\n",
       "</div>"
      ],
      "text/plain": [
       "   case no  age  gender     place  place.1     Occupation past history  fbg  \\\n",
       "0  3396/16   21       1     hubli        1        student          N/A  N/A   \n",
       "1  3391/16   13       0   dharwad        2            N/A          N/A  N/A   \n",
       "2  3390/16   14       0  gulbarga        3        student          N/A  N/A   \n",
       "3  3389/16    6       1   belagam        4            N/A          N/A  N/A   \n",
       "4  3387/16   11       1   baglkot        5  6th standarsd          N/A  N/A   \n",
       "\n",
       "                                              Issues  Depression ...   \\\n",
       "0          keeps dull,depressed felling,self talking           1 ...    \n",
       "1  aggression,irritated,scuide attempt,attention ...           1 ...    \n",
       "2                                depressed,irritated           1 ...    \n",
       "3                        slow learner,physicaly weak           0 ...    \n",
       "4                               anxitey,panic attack           0 ...    \n",
       "\n",
       "   forgetness  episodic attack  abusive language  head ache  epilepsy  \\\n",
       "0           0                0                 0          0         0   \n",
       "1           0                0                 0          0         0   \n",
       "2           0                0                 0          0         0   \n",
       "3           0                0                 0          0         0   \n",
       "4           0                0                 0          0         0   \n",
       "\n",
       "              Categorie         v1   v2   v3   v4  \n",
       "0  personality disorder 2016-06-11  N/A  N/A  N/A  \n",
       "1    Mental petardation 2016-06-11  N/A  N/A  N/A  \n",
       "2  personality disorder 2016-06-11  N/A  N/A  N/A  \n",
       "3         Schizophrenia 2016-06-11  N/A  N/A  N/A  \n",
       "4         Trans westism 2016-06-11  N/A  N/A  N/A  \n",
       "\n",
       "[5 rows x 45 columns]"
      ]
     },
     "execution_count": 34,
     "metadata": {},
     "output_type": "execute_result"
    }
   ],
   "source": [
    "df.head()"
   ]
  },
  {
   "cell_type": "code",
   "execution_count": 82,
   "metadata": {},
   "outputs": [],
   "source": [
    "TEMP=df['Issues']"
   ]
  },
  {
   "cell_type": "code",
   "execution_count": 108,
   "metadata": {
    "collapsed": true
   },
   "outputs": [],
   "source": [
    "backup=df"
   ]
  },
  {
   "cell_type": "code",
   "execution_count": 110,
   "metadata": {},
   "outputs": [],
   "source": [
    "attr=['case no','age','gender','place','place.1','Occupation','past history','fbg','Issues','Categorie','empty_list','total']  "
   ]
  },
  {
   "cell_type": "code",
   "execution_count": 116,
   "metadata": {},
   "outputs": [],
   "source": [
    "df_2=df.sum()"
   ]
  },
  {
   "cell_type": "code",
   "execution_count": 119,
   "metadata": {},
   "outputs": [],
   "source": [
    "backup2=backup\n",
    "df=backup"
   ]
  },
  {
   "cell_type": "code",
   "execution_count": 120,
   "metadata": {},
   "outputs": [
    {
     "data": {
      "text/plain": [
       "Depression      20\n",
       "Dull             8\n",
       "Self talking     6\n",
       "aggression      14\n",
       "irritated       13\n",
       "dtype: int64"
      ]
     },
     "execution_count": 120,
     "metadata": {},
     "output_type": "execute_result"
    }
   ],
   "source": [
    "df_2.head()"
   ]
  },
  {
   "cell_type": "code",
   "execution_count": 123,
   "metadata": {},
   "outputs": [
    {
     "data": {
      "text/plain": [
       "<matplotlib.axes._subplots.AxesSubplot at 0x1a1979e3b38>"
      ]
     },
     "execution_count": 123,
     "metadata": {},
     "output_type": "execute_result"
    },
    {
     "data": {
      "image/png": "[encoded data removed]",
      "text/plain": [
       "<matplotlib.figure.Figure at 0x1a19b143f98>"
      ]
     },
     "metadata": {},
     "output_type": "display_data"
    }
   ],
   "source": [
    "df_2.plot(kind='bar')"
   ]
  },
  {
   "cell_type": "code",
   "execution_count": null,
   "metadata": {
    "collapsed": true
   },
   "outputs": [],
   "source": []
  }
 ],
 "metadata": {
  "kernelspec": {
   "display_name": "Python 3",
   "language": "python",
   "name": "python3"
  },
  "language_info": {
   "codemirror_mode": {
    "name": "ipython",
    "version": 3
   },
   "file_extension": ".py",
   "mimetype": "text/x-python",
   "name": "python",
   "nbconvert_exporter": "python",
   "pygments_lexer": "ipython3",
   "version": "3.6.3"
  }
 },
 "nbformat": 4,
 "nbformat_minor": 2
}
